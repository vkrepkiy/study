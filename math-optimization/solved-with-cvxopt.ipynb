{
 "cells": [
  {
   "cell_type": "code",
   "execution_count": 1,
   "metadata": {},
   "outputs": [
    {
     "name": "stdout",
     "output_type": "stream",
     "text": [
      "Collecting cvxopt\n",
      "\u001b[?25l  Downloading https://files.pythonhosted.org/packages/98/54/f54833cd7d76212353f852e6daeb2c1150a0337a0de0c201f9f084da9219/cvxopt-1.2.3-cp36-cp36m-manylinux1_x86_64.whl (11.6MB)\n",
      "\u001b[K     |████████████████████████████████| 11.6MB 14.5MB/s eta 0:00:01\n",
      "\u001b[?25hInstalling collected packages: cvxopt\n",
      "Successfully installed cvxopt-1.2.3\n"
     ]
    }
   ],
   "source": [
    "!pip install cvxopt"
   ]
  },
  {
   "cell_type": "raw",
   "metadata": {},
   "source": [
    "Затраты на рекламу в месяц не должны превышать 10 000 денежных единиц (д.е). Минута радиорекламы стоит 5 д.е., а телерекламы 90 д.е. Фирма намерена использовать радиорекламу в три раза чаще чем телерекламу. Практика показывает, что 1 минута телерекламы обеспечивает объём продаж в 30 раз больший чем 1 минута радиорекламы.\n",
    "Определить такое распределение средств между двумя упомянутыми видами рекламы при котором объём продаж фирмы будет максимальным."
   ]
  },
  {
   "cell_type": "code",
   "execution_count": 2,
   "metadata": {},
   "outputs": [
    {
     "name": "stdout",
     "output_type": "stream",
     "text": [
      "Прибыль:\n",
      "3142.857142857143\n",
      "Результат:\n",
      "[ 9.52e+01]\n",
      "[ 2.86e+02]\n",
      "\n",
      "Время :\n",
      "0.0069637298583984375\n"
     ]
    }
   ],
   "source": [
    "from cvxopt.modeling import variable, op\n",
    "import time\n",
    "start = time.time()\n",
    "x = variable(2, 'x')\n",
    "z=-(30*x[0] +1*x[1])#Функция цели\n",
    "mass1 = (90*x[0] + 5*x[1]  <= 10000) #\"1\"\n",
    "mass2 = (3*x[0] -x[1] == 0) # \"2\"\n",
    "x_non_negative = (x >= 0) #\"3\"    \n",
    "problem =op(z,[mass1,mass2,x_non_negative])\n",
    "problem.solve(solver='glpk')  \n",
    "problem.status\n",
    "print (\"Прибыль:\")\n",
    "print(abs(problem.objective.value()[0]))\n",
    "print (\"Результат:\")\n",
    "print(x.value)\n",
    "stop = time.time()\n",
    "print (\"Время :\")\n",
    "print(stop - start)"
   ]
  },
  {
   "cell_type": "raw",
   "metadata": {},
   "source": [
    "По структуре программа аналогична предыдущей, но имеются два существенных отличия. Во-первых, библиотека cvxopt настроена на поиск минимума функции цели, а не на максимум. Поэтому целевая функция взята с отрицательным знаком минус -(30*x[0] +1*x[1]). Полученное вследствие этого отрицательное её значение выведено по абсолютной величине. Во-вторых, введено ограничение на не отрицательность переменных- non_negative. Повлияло ли это на результат мы сейчас у видим."
   ]
  }
 ],
 "metadata": {
  "kernelspec": {
   "display_name": "Python",
   "language": "python",
   "name": "conda-env-python-py"
  },
  "language_info": {
   "codemirror_mode": {
    "name": "ipython",
    "version": 3
   },
   "file_extension": ".py",
   "mimetype": "text/x-python",
   "name": "python",
   "nbconvert_exporter": "python",
   "pygments_lexer": "ipython3",
   "version": "3.6.7"
  }
 },
 "nbformat": 4,
 "nbformat_minor": 4
}
