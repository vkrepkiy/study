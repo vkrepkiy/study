{
 "cells": [
  {
   "cell_type": "code",
   "execution_count": null,
   "metadata": {},
   "outputs": [],
   "source": [
    "!pip install pulp"
   ]
  },
  {
   "cell_type": "markdown",
   "metadata": {},
   "source": [
    "Цех может производить стулья и столы. На производство\n",
    "стула идет 5 единиц материала, на производство стола - 20 единиц (футов красного\n",
    "дерева). Изготовление стула требует 10 человеко-часов, стола - 15. Имеется 400\n",
    "единиц материала и 450 человеко-часов. Прибыль при производстве стула - 45\n",
    "долларов США, при производстве стола - 80 долларов США."
   ]
  },
  {
   "cell_type": "code",
   "execution_count": null,
   "metadata": {},
   "outputs": [],
   "source": [
    "from pulp import *\n",
    "\n",
    "prob = LpProblem(\"Find maximum income\", LpMaximize)\n",
    "\n",
    "x1 = LpVariable(\"Amount of chairs\", 0)\n",
    "x2 = LpVariable(\"Amount of tables\", 0)\n",
    "\n",
    "prob += 45 * x1 + 80 * x2, \"Total income\"\n",
    "prob += 10 * x1 + 15 * x2 <= 450, \"Max time resources\"\n",
    "prob += 5 * x1 + 20 * x2 <= 400, \"Max wood resources\"\n",
    "\n",
    "prob.solve()\n",
    "\n",
    "print(\"Status:\", LpStatus[prob.status])\n",
    "\n",
    "for v in prob.variables():\n",
    "    print(v.name, \"=\", v.varValue)\n",
    "    \n",
    "print(\"Total profit = \", value(prob.objective))"
   ]
  },
  {
   "cell_type": "code",
   "execution_count": null,
   "metadata": {},
   "outputs": [],
   "source": []
  }
 ],
 "metadata": {
  "kernelspec": {
   "display_name": "Python",
   "language": "python",
   "name": "conda-env-python-py"
  },
  "language_info": {
   "codemirror_mode": {
    "name": "ipython",
    "version": 3
   },
   "file_extension": ".py",
   "mimetype": "text/x-python",
   "name": "python",
   "nbconvert_exporter": "python",
   "pygments_lexer": "ipython3",
   "version": "3.6.7"
  }
 },
 "nbformat": 4,
 "nbformat_minor": 4
}
